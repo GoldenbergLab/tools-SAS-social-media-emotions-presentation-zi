{
 "cells": [
  {
   "cell_type": "code",
   "execution_count": 2,
   "id": "3bc5a963",
   "metadata": {},
   "outputs": [],
   "source": [
    "#### install if not already \n",
    "\n",
    "# !pip install hume\n",
    "# !pip install hume[stream]\n",
    "\n",
    "import os\n",
    "from pathlib import Path\n",
    "\n",
    "from hume import HumeBatchClient\n",
    "import asyncio\n",
    "from hume import HumeStreamClient, StreamSocket\n",
    "from hume.config import FaceConfig\n",
    "\n",
    "api_key = 'YyHvNk8A2nZXaSwyPGru98sKQN9JpId77GJPqmNthYFixS7x'\n",
    "client = HumeBatchClient(api_key)"
   ]
  },
  {
   "cell_type": "code",
   "execution_count": 10,
   "id": "70902289",
   "metadata": {},
   "outputs": [
    {
     "name": "stdout",
     "output_type": "stream",
     "text": [
      "Job(id=\"b2011ea41bb74fd49d02dbba951a712b\")\n",
      "Running...\n"
     ]
    }
   ],
   "source": [
    "### sample job from hume.ai website\n",
    "### https://humeai.github.io/hume-python-sdk/0.1.6/\n",
    "\n",
    "urls = [\"https://www.youtube.com/shorts/sWUvKMC2450\"]\n",
    "job = client.submit_face(urls)\n",
    "\n",
    "print(job)\n",
    "print(\"Running...\")\n",
    "\n",
    "result = job.await_complete()\n",
    "result.download_predictions(\"predictions.json\")"
   ]
  },
  {
   "cell_type": "code",
   "execution_count": 3,
   "id": "0dd0d3ae",
   "metadata": {},
   "outputs": [
    {
     "data": {
      "text/plain": [
       "<Task pending name='Task-4' coro=<main() running at C:\\Users\\zhuang\\AppData\\Local\\Temp\\ipykernel_10728\\2852860550.py:1>>"
      ]
     },
     "execution_count": 3,
     "metadata": {},
     "output_type": "execute_result"
    }
   ],
   "source": [
    "async def main():\n",
    "    client = HumeStreamClient('YyHvNk8A2nZXaSwyPGru98sKQN9JpId77GJPqmNthYFixS7x')\n",
    "    configs = [FaceConfig(identify_faces=True)]\n",
    "    async with client.connect(configs) as socket:\n",
    "        socket: StreamSocket\n",
    "        result = await socket.send_file(\"raw-social-media-data/bobo.mp4\")\n",
    "        print(result)\n",
    "        result.download(\"predictions-bobo-local.json\")\n",
    "\n",
    "# Jupyter has its own async event loop, so merge main into the Jupyter event loop\n",
    "loop = asyncio.get_event_loop()\n",
    "loop.create_task(main())"
   ]
  },
  {
   "cell_type": "code",
   "execution_count": 4,
   "id": "231928af",
   "metadata": {},
   "outputs": [
    {
     "ename": "NameError",
     "evalue": "name 'result' is not defined",
     "output_type": "error",
     "traceback": [
      "\u001b[1;31m---------------------------------------------------------------------------\u001b[0m",
      "\u001b[1;31mNameError\u001b[0m                                 Traceback (most recent call last)",
      "Cell \u001b[1;32mIn[4], line 1\u001b[0m\n\u001b[1;32m----> 1\u001b[0m \u001b[43mresult\u001b[49m\n",
      "\u001b[1;31mNameError\u001b[0m: name 'result' is not defined"
     ]
    }
   ],
   "source": [
    "result"
   ]
  },
  {
   "cell_type": "code",
   "execution_count": 13,
   "id": "f220070a",
   "metadata": {},
   "outputs": [],
   "source": [
    "result.download_predictions(\"predictions-bobo.json\")"
   ]
  },
  {
   "cell_type": "code",
   "execution_count": 6,
   "id": "1c494c4e",
   "metadata": {},
   "outputs": [
    {
     "data": {
      "text/plain": [
       "<hume._batch.hume_batch_client.HumeBatchClient at 0x15f141abe50>"
      ]
     },
     "execution_count": 6,
     "metadata": {},
     "output_type": "execute_result"
    }
   ],
   "source": [
    "data_filepath = Path(__file__).parent / \"data\" / \"data.txt\"\n",
    "with data_filepath.open() as f:\n",
    "    urls = [line.strip() for line in f.readlines()]\n",
    "\n",
    "body = {\n",
    "    \"models\": {\n",
    "        \"face\": {\n",
    "            \"facs\": {},\n",
    "        },\n",
    "    },\n",
    "    \"urls\": urls,\n",
    "}\n",
    "job = client.start_job(body)\n",
    "print(job)\n",
    "\n",
    "timeout_seconds = 10 * 60\n",
    "result = job.await_complete(timeout=timeout_seconds)\n",
    "print(\"Job completed\")\n",
    "\n",
    "downloads_dirpath = Path(__file__).parent / \"downloads\"\n",
    "downloads_dirpath.mkdir(exist_ok=True)\n",
    "download_filepath = downloads_dirpath / f\"predictions-{job.id}.json\"\n",
    "result.download_predictions(download_filepath)\n",
    "\n",
    "print(f\"Predictions downloaded to {download_filepath}\")"
   ]
  },
  {
   "cell_type": "code",
   "execution_count": null,
   "id": "32bc9bc3",
   "metadata": {},
   "outputs": [],
   "source": []
  }
 ],
 "metadata": {
  "kernelspec": {
   "display_name": "Python 3 (ipykernel)",
   "language": "python",
   "name": "python3"
  },
  "language_info": {
   "codemirror_mode": {
    "name": "ipython",
    "version": 3
   },
   "file_extension": ".py",
   "mimetype": "text/x-python",
   "name": "python",
   "nbconvert_exporter": "python",
   "pygments_lexer": "ipython3",
   "version": "3.8.16"
  }
 },
 "nbformat": 4,
 "nbformat_minor": 5
}
