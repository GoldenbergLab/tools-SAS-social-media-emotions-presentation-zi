{
 "cells": [
  {
   "cell_type": "code",
   "execution_count": 8,
   "id": "481bc405",
   "metadata": {},
   "outputs": [],
   "source": [
    "#### install if not already \n",
    "\n",
    "# !pip install hume\n",
    "# !pip install hume[stream]\n",
    "\n",
    "import os\n",
    "from pathlib import Path\n",
    "\n",
    "from hume import HumeBatchClient\n",
    "import asyncio\n",
    "from hume import HumeStreamClient, StreamSocket\n",
    "from hume.config import FaceConfig\n",
    "\n",
    "api_key = 'YyHvNk8A2nZXaSwyPGru98sKQN9JpId77GJPqmNthYFixS7x'\n",
    "client = HumeBatchClient(api_key)"
   ]
  },
  {
   "cell_type": "code",
   "execution_count": 7,
   "id": "429f62b5",
   "metadata": {},
   "outputs": [
    {
     "name": "stdout",
     "output_type": "stream",
     "text": [
      "Job(id=\"b5345a1c63f74d98a142f3417d356ca4\")\n",
      "Running...\n"
     ]
    }
   ],
   "source": [
    "### sample job from hume.ai website\n",
    "### https://humeai.github.io/hume-python-sdk/0.1.6/\n",
    "\n",
    "urls = [\"https://tinyurl.com/hume-img\"]\n",
    "job = client.submit_face(urls)\n",
    "\n",
    "print(job)\n",
    "print(\"Running...\")\n",
    "\n",
    "result = job.await_complete()\n",
    "result.download_predictions(\"predictions.json\")"
   ]
  },
  {
   "cell_type": "code",
   "execution_count": null,
   "id": "21c763e2",
   "metadata": {},
   "outputs": [],
   "source": [
    "async def main():\n",
    "    client = HumeStreamClient(\"<your-api-key>\")\n",
    "    configs = [FaceConfig(identify_faces=True)]\n",
    "    async with client.connect(configs) as socket:\n",
    "        socket: StreamSocket\n",
    "        result = await socket.send_file(\"<your-image-filepath>\")\n",
    "        print(result)\n",
    "\n",
    "asyncio.run(main())"
   ]
  },
  {
   "cell_type": "code",
   "execution_count": 6,
   "id": "3f92a8a7",
   "metadata": {},
   "outputs": [
    {
     "data": {
      "text/plain": [
       "<hume._batch.hume_batch_client.HumeBatchClient at 0x15f141abe50>"
      ]
     },
     "execution_count": 6,
     "metadata": {},
     "output_type": "execute_result"
    }
   ],
   "source": [
    "data_filepath = Path(__file__).parent / \"data\" / \"data.txt\"\n",
    "with data_filepath.open() as f:\n",
    "    urls = [line.strip() for line in f.readlines()]\n",
    "\n",
    "body = {\n",
    "    \"models\": {\n",
    "        \"face\": {\n",
    "            \"facs\": {},\n",
    "        },\n",
    "    },\n",
    "    \"urls\": urls,\n",
    "}\n",
    "job = client.start_job(body)\n",
    "print(job)\n",
    "\n",
    "timeout_seconds = 10 * 60\n",
    "result = job.await_complete(timeout=timeout_seconds)\n",
    "print(\"Job completed\")\n",
    "\n",
    "downloads_dirpath = Path(__file__).parent / \"downloads\"\n",
    "downloads_dirpath.mkdir(exist_ok=True)\n",
    "download_filepath = downloads_dirpath / f\"predictions-{job.id}.json\"\n",
    "result.download_predictions(download_filepath)\n",
    "\n",
    "print(f\"Predictions downloaded to {download_filepath}\")"
   ]
  },
  {
   "cell_type": "code",
   "execution_count": null,
   "id": "6717cdaf",
   "metadata": {},
   "outputs": [],
   "source": []
  }
 ],
 "metadata": {
  "kernelspec": {
   "display_name": "Python 3 (ipykernel)",
   "language": "python",
   "name": "python3"
  },
  "language_info": {
   "codemirror_mode": {
    "name": "ipython",
    "version": 3
   },
   "file_extension": ".py",
   "mimetype": "text/x-python",
   "name": "python",
   "nbconvert_exporter": "python",
   "pygments_lexer": "ipython3",
   "version": "3.8.16"
  }
 },
 "nbformat": 4,
 "nbformat_minor": 5
}
