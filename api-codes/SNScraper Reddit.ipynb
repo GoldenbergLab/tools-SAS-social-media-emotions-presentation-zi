{
 "cells": [
  {
   "cell_type": "code",
   "execution_count": 1,
   "metadata": {},
   "outputs": [
    {
     "ename": "ModuleNotFoundError",
     "evalue": "No module named 'snscrape.modules.reddit'",
     "output_type": "error",
     "traceback": [
      "\u001b[1;31m---------------------------------------------------------------------------\u001b[0m",
      "\u001b[1;31mModuleNotFoundError\u001b[0m                       Traceback (most recent call last)",
      "\u001b[1;32m<ipython-input-1-8bad5ef04028>\u001b[0m in \u001b[0;36m<module>\u001b[1;34m\u001b[0m\n\u001b[0;32m      1\u001b[0m \u001b[1;31m### make sure that you are in python38 (for python 3.8) environment prior to running this code!\u001b[0m\u001b[1;33m\u001b[0m\u001b[1;33m\u001b[0m\u001b[1;33m\u001b[0m\u001b[0m\n\u001b[0;32m      2\u001b[0m \u001b[1;33m\u001b[0m\u001b[0m\n\u001b[1;32m----> 3\u001b[1;33m \u001b[1;32mimport\u001b[0m \u001b[0msnscrape\u001b[0m\u001b[1;33m.\u001b[0m\u001b[0mmodules\u001b[0m\u001b[1;33m.\u001b[0m\u001b[0mreddit\u001b[0m \u001b[1;32mas\u001b[0m \u001b[0msnreddit\u001b[0m\u001b[1;33m\u001b[0m\u001b[1;33m\u001b[0m\u001b[0m\n\u001b[0m\u001b[0;32m      4\u001b[0m \u001b[1;32mimport\u001b[0m \u001b[0mpandas\u001b[0m \u001b[1;32mas\u001b[0m \u001b[0mpd\u001b[0m\u001b[1;33m\u001b[0m\u001b[1;33m\u001b[0m\u001b[0m\n",
      "\u001b[1;31mModuleNotFoundError\u001b[0m: No module named 'snscrape.modules.reddit'"
     ]
    }
   ],
   "source": [
    "### make sure that you are in python38 (for python 3.8) environment prior to running this code! \n",
    "\n",
    "import snscrape.modules.reddit as snreddit\n",
    "import pandas as pd\n"
   ]
  },
  {
   "cell_type": "code",
   "execution_count": 13,
   "metadata": {},
   "outputs": [
    {
     "name": "stdout",
     "output_type": "stream",
     "text": [
      "{\"_type\": \"snscrape.modules.reddit.Submission\", \"author\": \"bwigfield\", \"date\": \"2011-11-30T15:32:10+00:00\", \"id\": \"t3_music\", \"link\": \"http://imgur.com/a/4n9xJ\", \"selftext\": null, \"subreddit\": \"carporn\", \"title\": \"1973 Ford F-350 Tow Truck\", \"url\": \"https://old.reddit.com/r/carporn/comments/music/1973_ford_f350_tow_truck/\", \"created\": \"2011-11-30T15:32:10+00:00\"}\n",
      "{\"_type\": \"snscrape.modules.reddit.Comment\", \"author\": \"ifyoustealmysun\", \"body\": \"i tried to go to drake's subreddit and took me down a rabbit hole lol\", \"date\": \"2022-08-10T07:46:01+00:00\", \"id\": \"t1_ijowqvd\", \"parentId\": 40372747086, \"subreddit\": \"carporn\", \"url\": \"https://old.reddit.com/r/carporn/comments/music/1973_ford_f350_tow_truck/ijowqvd/\", \"created\": \"2022-08-10T07:46:01+00:00\"}\n",
      "{\"_type\": \"snscrape.modules.reddit.Comment\", \"author\": \"Mellovianna\", \"body\": \"Me too \\ud83d\\ude14\", \"date\": \"2022-08-10T07:37:09+00:00\", \"id\": \"t1_ijow30u\", \"parentId\": 40372700759, \"subreddit\": \"carporn\", \"url\": \"https://old.reddit.com/r/carporn/comments/music/1973_ford_f350_tow_truck/ijow30u/\", \"created\": \"2022-08-10T07:37:09+00:00\"}\n",
      "{\"_type\": \"snscrape.modules.reddit.Comment\", \"author\": \"ifyoustealmysun\", \"body\": \"damn straight it was fate, now you must comment lol\", \"date\": \"2022-08-10T07:24:33+00:00\", \"id\": \"t1_ijov4t7\", \"parentId\": 26548898315, \"subreddit\": \"carporn\", \"url\": \"https://old.reddit.com/r/carporn/comments/music/1973_ford_f350_tow_truck/ijov4t7/\", \"created\": \"2022-08-10T07:24:33+00:00\"}\n",
      "{\"_type\": \"snscrape.modules.reddit.Comment\", \"author\": \"ifyoustealmysun\", \"body\": \"just happened to me... reddit is falling apart\", \"date\": \"2022-08-10T07:24:01+00:00\", \"id\": \"t1_ijov39z\", \"parentId\": 26359495644, \"subreddit\": \"carporn\", \"url\": \"https://old.reddit.com/r/carporn/comments/music/1973_ford_f350_tow_truck/ijov39z/\", \"created\": \"2022-08-10T07:24:01+00:00\"}\n",
      "{\"_type\": \"snscrape.modules.reddit.Comment\", \"author\": \"ifyoustealmysun\", \"body\": \"is that the guy from the movie cars?  also side note:  imagine if they made the original cars movie but with live action and with great CGI\", \"date\": \"2022-08-10T07:23:15+00:00\", \"id\": \"t1_ijov159\", \"parentId\": null, \"subreddit\": \"carporn\", \"url\": \"https://old.reddit.com/r/carporn/comments/music/1973_ford_f350_tow_truck/ijov159/\", \"created\": \"2022-08-10T07:23:15+00:00\"}\n",
      "{\"_type\": \"snscrape.modules.reddit.Comment\", \"author\": \"Shiine-1\", \"body\": \"[reddit.com/music](https://reddit.com/music) brings me here.\", \"date\": \"2022-07-01T09:06:13+00:00\", \"id\": \"t1_iefii5d\", \"parentId\": null, \"subreddit\": \"carporn\", \"url\": \"https://old.reddit.com/r/carporn/comments/music/1973_ford_f350_tow_truck/iefii5d/\", \"created\": \"2022-07-01T09:06:13+00:00\"}\n",
      "{\"_type\": \"snscrape.modules.reddit.Comment\", \"author\": \"Aepic-27\", \"body\": \"Music\", \"date\": \"2022-05-27T01:29:12+00:00\", \"id\": \"t1_ia5225q\", \"parentId\": null, \"subreddit\": \"carporn\", \"url\": \"https://old.reddit.com/r/carporn/comments/music/1973_ford_f350_tow_truck/ia5225q/\", \"created\": \"2022-05-27T01:29:12+00:00\"}\n",
      "{\"_type\": \"snscrape.modules.reddit.Comment\", \"author\": \"Decimini\", \"body\": \"Game OSTs or nothing!\", \"date\": \"2022-03-12T23:42:05+00:00\", \"id\": \"t1_i0fhyew\", \"parentId\": null, \"subreddit\": \"carporn\", \"url\": \"https://old.reddit.com/r/carporn/comments/music/1973_ford_f350_tow_truck/i0fhyew/\", \"created\": \"2022-03-12T23:42:05+00:00\"}\n",
      "{\"_type\": \"snscrape.modules.reddit.Comment\", \"author\": \"PM_ME_FUNNY_SHIT_NOW\", \"body\": \"heloo\", \"date\": \"2022-01-13T12:33:56+00:00\", \"id\": \"t1_hsh9h2b\", \"parentId\": 27113517545, \"subreddit\": \"carporn\", \"url\": \"https://old.reddit.com/r/carporn/comments/music/1973_ford_f350_tow_truck/hsh9h2b/\", \"created\": \"2022-01-13T12:33:56+00:00\"}\n",
      "{\"_type\": \"snscrape.modules.reddit.Comment\", \"author\": \"xHaUNTER\", \"body\": \"More like a sand trap, I can't leave.\", \"date\": \"2014-04-21T22:23:40+00:00\", \"id\": \"t1_cgygtqu\", \"parentId\": 27113775373, \"subreddit\": \"carporn\", \"url\": \"https://old.reddit.com/r/carporn/comments/music/_/cgygtqu/\", \"created\": \"2014-04-21T22:23:40+00:00\"}\n",
      "{\"_type\": \"snscrape.modules.reddit.Comment\", \"author\": \"amazondrone\", \"body\": \"You fell down the rabbit hole, like the rest of us.\", \"date\": \"2014-03-29T10:31:14+00:00\", \"id\": \"t1_cgeuaz1\", \"parentId\": 27113548011, \"subreddit\": \"carporn\", \"url\": \"https://old.reddit.com/r/carporn/comments/music/_/cgeuaz1/\", \"created\": \"2014-03-29T10:31:14+00:00\"}\n",
      "{\"_type\": \"snscrape.modules.reddit.Comment\", \"author\": \"UselessUrethra\", \"body\": \"**HOW DID I GET HERE**\", \"date\": \"2014-03-29T03:53:49+00:00\", \"id\": \"t1_cgepfjf\", \"parentId\": 27023374616, \"subreddit\": \"carporn\", \"url\": \"https://old.reddit.com/r/carporn/comments/music/_/cgepfjf/\", \"created\": \"2014-03-29T03:53:49+00:00\"}\n",
      "{\"_type\": \"snscrape.modules.reddit.Comment\", \"author\": \"Genericname48\", \"body\": \"No /u/E-saurus is right music sucks.\", \"date\": \"2014-03-29T03:21:14+00:00\", \"id\": \"t1_cgeos15\", \"parentId\": 27112951895, \"subreddit\": \"carporn\", \"url\": \"https://old.reddit.com/r/carporn/comments/music/_/cgeos15/\", \"created\": \"2014-03-29T03:21:14+00:00\"}\n",
      "{\"_type\": \"snscrape.modules.reddit.Comment\", \"author\": \"caeliat\", \"body\": \"Uncalled for. \", \"date\": \"2014-03-28T18:55:33+00:00\", \"id\": \"t1_cgecnkn\", \"parentId\": 27110455949, \"subreddit\": \"carporn\", \"url\": \"https://old.reddit.com/r/carporn/comments/music/_/cgecnkn/\", \"created\": \"2014-03-28T18:55:33+00:00\"}\n",
      "{\"_type\": \"snscrape.modules.reddit.Comment\", \"author\": \"E-saurus\", \"body\": \"Go fuck yourself.\", \"date\": \"2014-03-27T00:43:42+00:00\", \"id\": \"t1_cgcv5ot\", \"parentId\": 27101289121, \"subreddit\": \"carporn\", \"url\": \"https://old.reddit.com/r/carporn/comments/music/_/cgcv5ot/\", \"created\": \"2014-03-27T00:43:42+00:00\"}\n",
      "{\"_type\": \"snscrape.modules.reddit.Comment\", \"author\": \"r4nf\", \"body\": \"But music is awesome.\", \"date\": \"2014-03-20T14:54:36+00:00\", \"id\": \"t1_cg7eoip\", \"parentId\": 27096466426, \"subreddit\": \"carporn\", \"url\": \"https://old.reddit.com/r/carporn/comments/music/_/cg7eoip/\", \"created\": \"2014-03-20T14:54:36+00:00\"}\n",
      "{\"_type\": \"snscrape.modules.reddit.Comment\", \"author\": \"WhatSheOrder\", \"body\": \"Guys, we have to stop falling for this...\", \"date\": \"2014-03-17T04:52:27+00:00\", \"id\": \"t1_cg4jbay\", \"parentId\": 27054885479, \"subreddit\": \"carporn\", \"url\": \"https://old.reddit.com/r/carporn/comments/music/_/cg4jbay/\", \"created\": \"2014-03-17T04:52:27+00:00\"}\n",
      "{\"_type\": \"snscrape.modules.reddit.Comment\", \"author\": \"im2sexy2reddit\", \"body\": \"Hi. [7]\", \"date\": \"2014-02-15T05:12:56+00:00\", \"id\": \"t1_cffs38n\", \"parentId\": 27053342508, \"subreddit\": \"carporn\", \"url\": \"https://old.reddit.com/r/carporn/comments/music/_/cffs38n/\", \"created\": \"2014-02-15T05:12:56+00:00\"}\n",
      "{\"_type\": \"snscrape.modules.reddit.Comment\", \"author\": \"jrriojase\", \"body\": \"hi\", \"date\": \"2014-02-14T02:19:13+00:00\", \"id\": \"t1_cfev0oc\", \"parentId\": 27023378803, \"subreddit\": \"carporn\", \"url\": \"https://old.reddit.com/r/carporn/comments/music/_/cfev0oc/\", \"created\": \"2014-02-14T02:19:13+00:00\"}\n",
      "{\"_type\": \"snscrape.modules.reddit.Comment\", \"author\": \"amazondrone\", \"body\": \"/r/base36\", \"date\": \"2014-01-23T18:55:14+00:00\", \"id\": \"t1_cex0sj7\", \"parentId\": 27015101848, \"subreddit\": \"carporn\", \"url\": \"https://old.reddit.com/r/carporn/comments/music/_/cex0sj7/\", \"created\": \"2014-01-23T18:55:14+00:00\"}\n",
      "{\"_type\": \"snscrape.modules.reddit.Comment\", \"author\": \"amazondrone\", \"body\": \"\\\"random\\\" ;)\", \"date\": \"2014-01-23T18:52:15+00:00\", \"id\": \"t1_cex0paw\", \"parentId\": 26841790552, \"subreddit\": \"carporn\", \"url\": \"https://old.reddit.com/r/carporn/comments/music/_/cex0paw/\", \"created\": \"2014-01-23T18:52:15+00:00\"}\n",
      "{\"_type\": \"snscrape.modules.reddit.Comment\", \"author\": \"joombaga\", \"body\": \"January 17th 2014.  1:06 PM.  \\nNEVAR 5GET.\", \"date\": \"2014-01-17T19:06:33+00:00\", \"id\": \"t1_ces3dzs\", \"parentId\": 26969698999, \"subreddit\": \"carporn\", \"url\": \"https://old.reddit.com/r/carporn/comments/music/_/ces3dzs/\", \"created\": \"2014-01-17T19:06:33+00:00\"}\n",
      "{\"_type\": \"snscrape.modules.reddit.Comment\", \"author\": \"DOPE_AS_FUCK_COOK\", \"body\": \"Redditor here from the future. reddit.com/music\", \"date\": \"2013-12-13T20:17:43+00:00\", \"id\": \"t1_ce128xj\", \"parentId\": 26968808539, \"subreddit\": \"carporn\", \"url\": \"https://old.reddit.com/r/carporn/comments/music/_/ce128xj/\", \"created\": \"2013-12-13T20:17:43+00:00\"}\n",
      "{\"_type\": \"snscrape.modules.reddit.Comment\", \"author\": \"[deleted]\", \"body\": \"[deleted]\", \"date\": \"2013-12-13T03:00:35+00:00\", \"id\": \"t1_ce0j5uj\", \"parentId\": 26934020690, \"subreddit\": \"carporn\", \"url\": \"https://old.reddit.com/r/carporn/comments/music/_/ce0j5uj/\", \"created\": \"2013-12-13T03:00:35+00:00\"}\n",
      "{\"_type\": \"snscrape.modules.reddit.Comment\", \"author\": \"Bensas42\", \"body\": \"Yup.\", \"date\": \"2013-11-16T19:26:30+00:00\", \"id\": \"t1_cdftjde\", \"parentId\": 26927377224, \"subreddit\": \"carporn\", \"url\": \"https://old.reddit.com/r/carporn/comments/music/_/cdftjde/\", \"created\": \"2013-11-16T19:26:30+00:00\"}\n",
      "{\"_type\": \"snscrape.modules.reddit.Comment\", \"author\": \"abzeke123\", \"body\": \"Still Happening 1 year later.\", \"date\": \"2013-11-11T18:02:12+00:00\", \"id\": \"t1_cdbv58o\", \"parentId\": 26903559308, \"subreddit\": \"carporn\", \"url\": \"https://old.reddit.com/r/carporn/comments/music/_/cdbv58o/\", \"created\": \"2013-11-11T18:02:12+00:00\"}\n",
      "{\"_type\": \"snscrape.modules.reddit.Comment\", \"author\": \"fxdx\", \"body\": \"Yep, this happened to me too. \", \"date\": \"2013-10-23T05:28:36+00:00\", \"id\": \"t1_ccxon7w\", \"parentId\": 26894011710, \"subreddit\": \"carporn\", \"url\": \"https://old.reddit.com/r/carporn/comments/music/_/ccxon7w/\", \"created\": \"2013-10-23T05:28:36+00:00\"}\n",
      "{\"_type\": \"snscrape.modules.reddit.Comment\", \"author\": \"unsuitable_sick_burn\", \"body\": \"I FEEL LIKE ALICE IN WONDERLANDDDDDDDDD\", \"date\": \"2013-10-15T07:14:24+00:00\", \"id\": \"t1_ccs008u\", \"parentId\": 26889857650, \"subreddit\": \"carporn\", \"url\": \"https://old.reddit.com/r/carporn/comments/music/_/ccs008u/\", \"created\": \"2013-10-15T07:14:24+00:00\"}\n",
      "{\"_type\": \"snscrape.modules.reddit.Comment\", \"author\": \"grasisgroen\", \"body\": \"Hey guys how y'all doing?\", \"date\": \"2013-10-11T12:49:37+00:00\", \"id\": \"t1_ccpiyya\", \"parentId\": 26880727181, \"subreddit\": \"carporn\", \"url\": \"https://old.reddit.com/r/carporn/comments/music/_/ccpiyya/\", \"created\": \"2013-10-11T12:49:37+00:00\"}\n",
      "{\"_type\": \"snscrape.modules.reddit.Comment\", \"author\": \"PoliceAlarm\", \"body\": \"Let's add a bit more, eh?\", \"date\": \"2013-10-03T06:49:21+00:00\", \"id\": \"t1_cck39u5\", \"parentId\": 26859781637, \"subreddit\": \"carporn\", \"url\": \"https://old.reddit.com/r/carporn/comments/music/_/cck39u5/\", \"created\": \"2013-10-03T06:49:21+00:00\"}\n",
      "{\"_type\": \"snscrape.modules.reddit.Comment\", \"author\": \"BigBobBobson\", \"body\": \"After this I'm just gonna google it to get there quickly.\", \"date\": \"2013-09-13T16:06:00+00:00\", \"id\": \"t1_cc7mc5h\", \"parentId\": 26853675793, \"subreddit\": \"carporn\", \"url\": \"https://old.reddit.com/r/carporn/comments/music/_/cc7mc5h/\", \"created\": \"2013-09-13T16:06:00+00:00\"}\n",
      "{\"_type\": \"snscrape.modules.reddit.Comment\", \"author\": \"NeedleBallista\", \"body\": \"The length of this thread is thoroughly pleasing.\", \"date\": \"2013-09-08T04:58:38+00:00\", \"id\": \"t1_cc3zgup\", \"parentId\": 26853100523, \"subreddit\": \"carporn\", \"url\": \"https://old.reddit.com/r/carporn/comments/music/_/cc3zgup/\", \"created\": \"2013-09-08T04:58:38+00:00\"}\n",
      "{\"_type\": \"snscrape.modules.reddit.Comment\", \"author\": \"bad-tipper\", \"body\": \"same\", \"date\": \"2013-09-07T17:43:51+00:00\", \"id\": \"t1_cc3n4yz\", \"parentId\": 26849996749, \"subreddit\": \"carporn\", \"url\": \"https://old.reddit.com/r/carporn/comments/music/_/cc3n4yz/\", \"created\": \"2013-09-07T17:43:51+00:00\"}\n",
      "{\"_type\": \"snscrape.modules.reddit.Comment\", \"author\": \"MyNameIsM\", \"body\": \"Just stumbled in by mistyping the URL for /r/music as well. Carry on guys.\", \"date\": \"2013-09-04T21:20:43+00:00\", \"id\": \"t1_cc1sm31\", \"parentId\": 26842228144, \"subreddit\": \"carporn\", \"url\": \"https://old.reddit.com/r/carporn/comments/music/_/cc1sm31/\", \"created\": \"2013-09-04T21:20:43+00:00\"}\n",
      "{\"_type\": \"snscrape.modules.reddit.Comment\", \"author\": \"SinfulSpuds\", \"body\": \"gotta keep the train rollin'!\\n\", \"date\": \"2013-08-28T19:29:34+00:00\", \"id\": \"t1_cbx63sg\", \"parentId\": 26842166963, \"subreddit\": \"carporn\", \"url\": \"https://old.reddit.com/r/carporn/comments/music/_/cbx63sg/\", \"created\": \"2013-08-28T19:29:34+00:00\"}\n",
      "{\"_type\": \"snscrape.modules.reddit.Comment\", \"author\": \"balducien\", \"body\": \"Holy fuck... [That](http://imgur.com/4R6Ky62)'s how you look in reddit Sync dev on Android :D\", \"date\": \"2013-08-28T18:35:01+00:00\", \"id\": \"t1_cbx4skz\", \"parentId\": 26841953258, \"subreddit\": \"carporn\", \"url\": \"https://old.reddit.com/r/carporn/comments/music/_/cbx4skz/\", \"created\": \"2013-08-28T18:35:01+00:00\"}\n",
      "{\"_type\": \"snscrape.modules.reddit.Comment\", \"author\": \"maxgroover\", \"body\": \"thanks for providing info for the forthcoming redditors in the years to come.\", \"date\": \"2013-08-28T15:14:45+00:00\", \"id\": \"t1_cbx07oq\", \"parentId\": 26841790552, \"subreddit\": \"carporn\", \"url\": \"https://old.reddit.com/r/carporn/comments/music/_/cbx07oq/\", \"created\": \"2013-08-28T15:14:45+00:00\"}\n",
      "{\"_type\": \"snscrape.modules.reddit.Comment\", \"author\": \"LysergicAcidDiethyla\", \"body\": \"To any of you people visiting from the future this happens because the shortlink generated for that page is http://redd.it/music - the 'music' bit is a random assortment of letters on other reddit posts but for this on it happens to form the word 'music'.\", \"date\": \"2013-08-28T10:56:53+00:00\", \"id\": \"t1_cbwwq54\", \"parentId\": 26841472139, \"subreddit\": \"carporn\", \"url\": \"https://old.reddit.com/r/carporn/comments/music/_/cbwwq54/\", \"created\": \"2013-08-28T10:56:53+00:00\"}\n",
      "{\"_type\": \"snscrape.modules.reddit.Comment\", \"author\": \"Anthro88\", \"body\": \"12 seconds apart o_o\", \"date\": \"2013-08-28T02:16:59+00:00\", \"id\": \"t1_cbwpwgb\", \"parentId\": 26841470919, \"subreddit\": \"carporn\", \"url\": \"https://old.reddit.com/r/carporn/comments/music/_/cbwpwgb/\", \"created\": \"2013-08-28T02:16:59+00:00\"}\n",
      "{\"_type\": \"snscrape.modules.reddit.Comment\", \"author\": \"[deleted]\", \"body\": \"/r/MuseumofReddit\", \"date\": \"2013-08-28T02:15:52+00:00\", \"id\": \"t1_cbwpvif\", \"parentId\": 26841434942, \"subreddit\": \"carporn\", \"url\": \"https://old.reddit.com/r/carporn/comments/music/_/cbwpvif/\", \"created\": \"2013-08-28T02:15:52+00:00\"}\n",
      "{\"_type\": \"snscrape.modules.reddit.Comment\", \"author\": \"Anthro88\", \"body\": \"http://www.reddit.com/r/MuseumOfReddit/comments/1l7kqt/the_curious_case_of_redditcommusic/\", \"date\": \"2013-08-28T02:15:40+00:00\", \"id\": \"t1_cbwpvdo\", \"parentId\": 26841434942, \"subreddit\": \"carporn\", \"url\": \"https://old.reddit.com/r/carporn/comments/music/_/cbwpvdo/\", \"created\": \"2013-08-28T02:15:40+00:00\"}\n",
      "{\"_type\": \"snscrape.modules.reddit.Comment\", \"author\": \"[deleted]\", \"body\": \"Wow, were you 30 minutes apart?\\n\\nI have a feeling someone mentioned this somewhere.\", \"date\": \"2013-08-28T01:40:36+00:00\", \"id\": \"t1_cbwp3r2\", \"parentId\": 26841430279, \"subreddit\": \"carporn\", \"url\": \"https://old.reddit.com/r/carporn/comments/music/_/cbwp3r2/\", \"created\": \"2013-08-28T01:40:36+00:00\"}\n",
      "{\"_type\": \"snscrape.modules.reddit.Comment\", \"author\": \"timetraveler1912\", \"body\": \"WTF\", \"date\": \"2013-08-28T01:36:00+00:00\", \"id\": \"t1_cbwp05j\", \"parentId\": 26841399853, \"subreddit\": \"carporn\", \"url\": \"https://old.reddit.com/r/carporn/comments/music/_/cbwp05j/\", \"created\": \"2013-08-28T01:36:00+00:00\"}\n",
      "{\"_type\": \"snscrape.modules.reddit.Comment\", \"author\": \"Anthro88\", \"body\": \".\", \"date\": \"2013-08-28T01:05:57+00:00\", \"id\": \"t1_cbwocod\", \"parentId\": 26823943577, \"subreddit\": \"carporn\", \"url\": \"https://old.reddit.com/r/carporn/comments/music/_/cbwocod/\", \"created\": \"2013-08-28T01:05:57+00:00\"}\n",
      "{\"_type\": \"snscrape.modules.reddit.Comment\", \"author\": \"[deleted]\", \"body\": \"Two weeks later, it's still a thing!\", \"date\": \"2013-08-12T18:35:54+00:00\", \"id\": \"t1_cbma7bt\", \"parentId\": 26807469643, \"subreddit\": \"carporn\", \"url\": \"https://old.reddit.com/r/carporn/comments/music/_/cbma7bt/\", \"created\": \"2013-08-12T18:35:54+00:00\"}\n",
      "{\"_type\": \"snscrape.modules.reddit.Comment\", \"author\": \"Ranga93\", \"body\": \"Just pointing out this is still happening.\", \"date\": \"2013-07-29T08:55:15+00:00\", \"id\": \"t1_cbch3yj\", \"parentId\": 26733906225, \"subreddit\": \"carporn\", \"url\": \"https://old.reddit.com/r/carporn/comments/music/_/cbch3yj/\", \"created\": \"2013-07-29T08:55:15+00:00\"}\n",
      "{\"_type\": \"snscrape.modules.reddit.Comment\", \"author\": \"SnowLeppard\", \"body\": \"I'd switched tab after typing /music, and came back to this later wondering *where the hell am I and how did I get here*?\", \"date\": \"2013-05-23T20:15:33+00:00\", \"id\": \"t1_ca4oe29\", \"parentId\": 26682165960, \"subreddit\": \"carporn\", \"url\": \"https://old.reddit.com/r/carporn/comments/music/_/ca4oe29/\", \"created\": \"2013-05-23T20:15:33+00:00\"}\n",
      "{\"_type\": \"snscrape.modules.reddit.Comment\", \"author\": \"QQexe\", \"body\": \"Just to clarify, this is actually a destination of reddit.com/music, without the /r/. Damn shortlinks.\", \"date\": \"2013-04-20T15:32:16+00:00\", \"id\": \"t1_c9j3lep\", \"parentId\": 26627817900, \"subreddit\": \"carporn\", \"url\": \"https://old.reddit.com/r/carporn/comments/music/_/c9j3lep/\", \"created\": \"2013-04-20T15:32:16+00:00\"}\n",
      "{\"_type\": \"snscrape.modules.reddit.Comment\", \"author\": \"[deleted]\", \"body\": \"[deleted]\", \"date\": \"2013-04-19T16:15:54+00:00\", \"id\": \"t1_c9ii072\", \"parentId\": 26548898315, \"subreddit\": \"carporn\", \"url\": \"https://old.reddit.com/r/carporn/comments/music/_/c9ii072/\", \"created\": \"2013-04-19T16:15:54+00:00\"}\n",
      "{\"_type\": \"snscrape.modules.reddit.Comment\", \"author\": \"popcorncolonel\", \"body\": \"Yep\", \"date\": \"2013-04-06T21:24:06+00:00\", \"id\": \"t1_c99vf0o\", \"parentId\": 26643897425, \"subreddit\": \"carporn\", \"url\": \"https://old.reddit.com/r/carporn/comments/music/_/c99vf0o/\", \"created\": \"2013-04-06T21:24:06+00:00\"}\n",
      "{\"_type\": \"snscrape.modules.reddit.Comment\", \"author\": \"frozenburning\", \"body\": \"Damn, this is ridiculous\", \"date\": \"2013-02-28T05:32:47+00:00\", \"id\": \"t1_c8n36tt\", \"parentId\": 26627817900, \"subreddit\": \"carporn\", \"url\": \"https://old.reddit.com/r/carporn/comments/music/_/c8n36tt/\", \"created\": \"2013-02-28T05:32:47+00:00\"}\n",
      "{\"_type\": \"snscrape.modules.reddit.Comment\", \"author\": \"undercoverhugger\", \"body\": \"Well... here I am in the future. Trying to get to r/music.\", \"date\": \"2013-02-11T23:26:56+00:00\", \"id\": \"t1_c8dijsc\", \"parentId\": 26602719355, \"subreddit\": \"carporn\", \"url\": \"https://old.reddit.com/r/carporn/comments/music/_/c8dijsc/\", \"created\": \"2013-02-11T23:26:56+00:00\"}\n",
      "{\"_type\": \"snscrape.modules.reddit.Comment\", \"author\": \"4715092117\", \"body\": \"Got me too.  \", \"date\": \"2013-01-17T15:16:47+00:00\", \"id\": \"t1_c7yklmj\", \"parentId\": 26571715132, \"subreddit\": \"carporn\", \"url\": \"https://old.reddit.com/r/carporn/comments/music/_/c7yklmj/\", \"created\": \"2013-01-17T15:16:47+00:00\"}\n",
      "{\"_type\": \"snscrape.modules.reddit.Comment\", \"author\": \"MrFrumpish\", \"body\": \"Yep, same thing here, typed r/music, was brought here\", \"date\": \"2012-12-13T20:36:16+00:00\", \"id\": \"t1_c7g42m4\", \"parentId\": 26568249332, \"subreddit\": \"carporn\", \"url\": \"https://old.reddit.com/r/carporn/comments/music/_/c7g42m4/\", \"created\": \"2012-12-13T20:36:16+00:00\"}\n",
      "{\"_type\": \"snscrape.modules.reddit.Comment\", \"author\": \"Misspells_Stuff\", \"body\": \"Forgot to add /r/ somehow just /music leads to this... weird. \", \"date\": \"2012-12-10T04:00:02+00:00\", \"id\": \"t1_c7e1sdw\", \"parentId\": 26552415867, \"subreddit\": \"carporn\", \"url\": \"https://old.reddit.com/r/carporn/comments/music/_/c7e1sdw/\", \"created\": \"2012-12-10T04:00:02+00:00\"}\n",
      "{\"_type\": \"snscrape.modules.reddit.Comment\", \"author\": \"CokeHeadRob\", \"body\": \"I'm surprised nobody has figured out why the fuck this is happening? Just happened to me.\", \"date\": \"2012-11-21T06:51:17+00:00\", \"id\": \"t1_c74mf7f\", \"parentId\": 26543230640, \"subreddit\": \"carporn\", \"url\": \"https://old.reddit.com/r/carporn/comments/music/_/c74mf7f/\", \"created\": \"2012-11-21T06:51:17+00:00\"}\n",
      "{\"_type\": \"snscrape.modules.reddit.Comment\", \"author\": \"crawlingpony\", \"body\": \"I typed in r/music\\n\\nI got a ford pickup photo discussion??\", \"date\": \"2012-11-16T23:26:28+00:00\", \"id\": \"t1_c72j11n\", \"parentId\": 26436278882, \"subreddit\": \"carporn\", \"url\": \"https://old.reddit.com/r/carporn/comments/music/_/c72j11n/\", \"created\": \"2012-11-16T23:26:28+00:00\"}\n",
      "{\"_type\": \"snscrape.modules.reddit.Comment\", \"author\": \"BearAttack117\", \"body\": \"How does this. wat.\", \"date\": \"2012-11-10T05:23:16+00:00\", \"id\": \"t1_c6z5ju8\", \"parentId\": 26520928901, \"subreddit\": \"carporn\", \"url\": \"https://old.reddit.com/r/carporn/comments/music/_/c6z5ju8/\", \"created\": \"2012-11-10T05:23:16+00:00\"}\n",
      "{\"_type\": \"snscrape.modules.reddit.Comment\", \"author\": \"CHOLIX\", \"body\": \"wat\", \"date\": \"2012-11-01T11:45:45+00:00\", \"id\": \"t1_c6us94t\", \"parentId\": 26520928901, \"subreddit\": \"carporn\", \"url\": \"https://old.reddit.com/r/carporn/comments/music/_/c6us94t/\", \"created\": \"2012-11-01T11:45:45+00:00\"}\n",
      "{\"_type\": \"snscrape.modules.reddit.Comment\", \"author\": \"freakball\", \"body\": \"Fly you fools!\", \"date\": \"2012-10-13T15:40:43+00:00\", \"id\": \"t1_c6lvjph\", \"parentId\": 26520900681, \"subreddit\": \"carporn\", \"url\": \"https://old.reddit.com/r/carporn/comments/music/_/c6lvjph/\", \"created\": \"2012-10-13T15:40:43+00:00\"}\n",
      "{\"_type\": \"snscrape.modules.reddit.Comment\", \"author\": \"Paralyzing\", \"body\": \"what the hell?\", \"date\": \"2012-10-13T14:43:29+00:00\", \"id\": \"t1_c6luxxl\", \"parentId\": 26519455335, \"subreddit\": \"carporn\", \"url\": \"https://old.reddit.com/r/carporn/comments/music/_/c6luxxl/\", \"created\": \"2012-10-13T14:43:29+00:00\"}\n",
      "{\"_type\": \"snscrape.modules.reddit.Comment\", \"author\": \"freakball\", \"body\": \"Fuckin a right\\n\\n\", \"date\": \"2012-10-11T18:03:00+00:00\", \"id\": \"t1_c6kzyp3\", \"parentId\": 26519452523, \"subreddit\": \"carporn\", \"url\": \"https://old.reddit.com/r/carporn/comments/music/_/c6kzyp3/\", \"created\": \"2012-10-11T18:03:00+00:00\"}\n",
      "{\"_type\": \"snscrape.modules.reddit.Comment\", \"author\": \"[deleted]\", \"body\": \"hahah you too?\", \"date\": \"2012-10-11T17:59:31+00:00\", \"id\": \"t1_c6kzwiz\", \"parentId\": 26519448572, \"subreddit\": \"carporn\", \"url\": \"https://old.reddit.com/r/carporn/comments/music/_/c6kzwiz/\", \"created\": \"2012-10-11T17:59:31+00:00\"}\n",
      "{\"_type\": \"snscrape.modules.reddit.Comment\", \"author\": \"freakball\", \"body\": \"HOW THE FUCK\", \"date\": \"2012-10-11T17:54:52+00:00\", \"id\": \"t1_c6kzth8\", \"parentId\": 26519442831, \"subreddit\": \"carporn\", \"url\": \"https://old.reddit.com/r/carporn/comments/music/_/c6kzth8/\", \"created\": \"2012-10-11T17:54:52+00:00\"}\n",
      "{\"_type\": \"snscrape.modules.reddit.Comment\", \"author\": \"[deleted]\", \"body\": \"what....... the hell.\", \"date\": \"2012-10-11T17:47:47+00:00\", \"id\": \"t1_c6kzp1r\", \"parentId\": 26436278882, \"subreddit\": \"carporn\", \"url\": \"https://old.reddit.com/r/carporn/comments/music/_/c6kzp1r/\", \"created\": \"2012-10-11T17:47:47+00:00\"}\n",
      "{\"_type\": \"snscrape.modules.reddit.Comment\", \"author\": \"freakball\", \"body\": \"where am i\", \"date\": \"2012-06-29T23:11:34+00:00\", \"id\": \"t1_c57h7c2\", \"parentId\": 26359495644, \"subreddit\": \"carporn\", \"url\": \"https://old.reddit.com/r/carporn/comments/music/_/c57h7c2/\", \"created\": \"2012-06-29T23:11:34+00:00\"}\n",
      "{\"_type\": \"snscrape.modules.reddit.Comment\", \"author\": \"agentlame\", \"body\": \"Just happened to me too.  Two people in one day, go figure.\", \"date\": \"2012-03-05T03:52:41+00:00\", \"id\": \"t1_c3xrh0c\", \"parentId\": 26359317830, \"subreddit\": \"carporn\", \"url\": \"https://old.reddit.com/r/carporn/comments/music/_/c3xrh0c/\", \"created\": \"2012-03-05T03:52:41+00:00\"}\n",
      "{\"_type\": \"snscrape.modules.reddit.Comment\", \"author\": \"broodjes\", \"body\": \"I did the same thing..\", \"date\": \"2012-03-04T20:53:29+00:00\", \"id\": \"t1_c3xnnt2\", \"parentId\": 26338902568, \"subreddit\": \"carporn\", \"url\": \"https://old.reddit.com/r/carporn/comments/music/_/c3xnnt2/\", \"created\": \"2012-03-04T20:53:29+00:00\"}\n",
      "{\"_type\": \"snscrape.modules.reddit.Comment\", \"author\": \"TorchicBlaziken\", \"body\": \"This link is music to my ears.\", \"date\": \"2012-02-16T02:26:21+00:00\", \"id\": \"t1_c3rotoj\", \"parentId\": null, \"subreddit\": \"carporn\", \"url\": \"https://old.reddit.com/r/carporn/comments/music/_/c3rotoj/\", \"created\": \"2012-02-16T02:26:21+00:00\"}\n",
      "{\"_type\": \"snscrape.modules.reddit.Comment\", \"author\": \"Questions-Answered\", \"body\": \"This isn't [r/music](http://reddit.com/music/)...\", \"date\": \"2012-01-28T13:38:38+00:00\", \"id\": \"t1_c3li3ag\", \"parentId\": null, \"subreddit\": \"carporn\", \"url\": \"https://old.reddit.com/r/carporn/comments/music/_/c3li3ag/\", \"created\": \"2012-01-28T13:38:38+00:00\"}\n",
      "{\"_type\": \"snscrape.modules.reddit.Comment\", \"author\": \"JayGryph\", \"body\": \"I miss my roll deck ford tow truck. It got sold in parts and the guy put a COE 50's chevy truck cab on it. It's awesome.  Have a rusty upvote.\", \"date\": \"2011-12-25T05:09:41+00:00\", \"id\": \"t1_c3azufy\", \"parentId\": null, \"subreddit\": \"carporn\", \"url\": \"https://old.reddit.com/r/carporn/comments/music/_/c3azufy/\", \"created\": \"2011-12-25T05:09:41+00:00\"}\n",
      "{\"_type\": \"snscrape.modules.reddit.Comment\", \"author\": \"frogminator\", \"body\": \"Vintage\", \"date\": \"2011-12-08T05:10:26+00:00\", \"id\": \"t1_c365vuw\", \"parentId\": 26309681292, \"subreddit\": \"carporn\", \"url\": \"https://old.reddit.com/r/carporn/comments/music/_/c365vuw/\", \"created\": \"2011-12-08T05:10:26+00:00\"}\n",
      "{\"_type\": \"snscrape.modules.reddit.Comment\", \"author\": \"bwigfield\", \"body\": \"You know I didn't have a clue what was back there but after a little goggling I do believe you are correct. Thanks for the info. The old man by buddy got it from said that \\\"With the right set up she'll rip the earth's asshole clean out\\\" I'm not really sure what that old timer meant but I can understand why someone would swear by one. In the hick town it came from years after she was retired her previous owner would still get call from some farmers when their tractor weren't up to the task at hand.\", \"date\": \"2011-12-05T21:55:14+00:00\", \"id\": \"t1_c35jwy5\", \"parentId\": 26309694271, \"subreddit\": \"carporn\", \"url\": \"https://old.reddit.com/r/carporn/comments/music/_/c35jwy5/\", \"created\": \"2011-12-05T21:55:14+00:00\"}\n",
      "{\"_type\": \"snscrape.modules.reddit.Comment\", \"author\": \"bwigfield\", \"body\": \"It currently lives out at the in-laws place. Not currently on the road at the moment and even though the carb needs some love (accelerator pump has no linkages connecting it to anything) she starts up and runs everytime (sometime it takes more work than others). Of coarse you use a screw driver to turn the ignition.... Its got a 390 FE block in it. The winch still works like a champ. She needs a lot of love and I hope to someday be able to give it to her. As it is though when we need to pull a log out of the wood or move something shes still up to the task. Anything in particular you were wanting to know? Oh an its got a Borg-Warner T18 in there so, you know, granny low for the win.\", \"date\": \"2011-12-05T21:51:02+00:00\", \"id\": \"t1_c35jvem\", \"parentId\": 26309724074, \"subreddit\": \"carporn\", \"url\": \"https://old.reddit.com/r/carporn/comments/music/_/c35jvem/\", \"created\": \"2011-12-05T21:51:02+00:00\"}\n",
      "{\"_type\": \"snscrape.modules.reddit.Comment\", \"author\": \"NWLierly\", \"body\": \"Seriously, I'd love to see more of this in the sub\", \"date\": \"2011-12-01T16:08:01+00:00\", \"id\": \"t1_c34bqlf\", \"parentId\": 26309740927, \"subreddit\": \"carporn\", \"url\": \"https://old.reddit.com/r/carporn/comments/music/_/c34bqlf/\", \"created\": \"2011-12-01T16:08:01+00:00\"}\n",
      "{\"_type\": \"snscrape.modules.reddit.Comment\", \"author\": \"Sharting_Penguin\", \"body\": \"I wish it were an 8 cylinder and a 4x4.\", \"date\": \"2011-12-01T00:19:32+00:00\", \"id\": \"t1_c345hcz\", \"parentId\": 26309753013, \"subreddit\": \"carporn\", \"url\": \"https://old.reddit.com/r/carporn/comments/music/_/c345hcz/\", \"created\": \"2011-12-01T00:19:32+00:00\"}\n",
      "{\"_type\": \"snscrape.modules.reddit.Comment\", \"author\": \"lotsa1s\", \"body\": \"Only if you want to make 40$ an hour plowing snow. You could pay for the plow in a few storms.\", \"date\": \"2011-12-01T00:02:07+00:00\", \"id\": \"t1_c345bcl\", \"parentId\": 26309741041, \"subreddit\": \"carporn\", \"url\": \"https://old.reddit.com/r/carporn/comments/music/_/c345bcl/\", \"created\": \"2011-12-01T00:02:07+00:00\"}\n",
      "{\"_type\": \"snscrape.modules.reddit.Comment\", \"author\": \"Sharting_Penguin\", \"body\": \"I have an old Ford F series. Should I put a plow on it?\", \"date\": \"2011-11-30T23:35:51+00:00\", \"id\": \"t1_c345241\", \"parentId\": 26309658068, \"subreddit\": \"carporn\", \"url\": \"https://old.reddit.com/r/carporn/comments/music/_/c345241/\", \"created\": \"2011-11-30T23:35:51+00:00\"}\n",
      "{\"_type\": \"snscrape.modules.reddit.Comment\", \"author\": \"Sharting_Penguin\", \"body\": \"THIS is the kind of stuff I like.\", \"date\": \"2011-11-30T23:35:37+00:00\", \"id\": \"t1_c34520v\", \"parentId\": null, \"subreddit\": \"carporn\", \"url\": \"https://old.reddit.com/r/carporn/comments/music/_/c34520v/\", \"created\": \"2011-11-30T23:35:37+00:00\"}\n",
      "{\"_type\": \"snscrape.modules.reddit.Comment\", \"author\": \"tcruarceri\", \"body\": \"details! where is the old dog? is it for sale???\\npassed on a 71 f350 wrecker a year ago, kicking myself since.\\nWould have made a fun dually ratrod/cruiser.\", \"date\": \"2011-11-30T22:58:50+00:00\", \"id\": \"t1_c344p0q\", \"parentId\": null, \"subreddit\": \"carporn\", \"url\": \"https://old.reddit.com/r/carporn/comments/music/_/c344p0q/\", \"created\": \"2011-11-30T22:58:50+00:00\"}\n",
      "{\"_type\": \"snscrape.modules.reddit.Comment\", \"author\": \"trchili\", \"body\": \"Looks like a classic Holmes 440 wrecker bed.  Solid workhorse of the towing industry until the death of the metal bumper.  There are old guys that'll still swear by them, and claim you can still tow anything with them without damage.  Not quite sure about that but I've seen a few things hooked up to one I wouldn't expect could be done.  Personally I think they're still great for clearing wrecks, as nothing hooks and books like a sling and if the car it's already wrecked up, you don't have to worry so much about what the sling could do.\", \"date\": \"2011-11-30T21:57:33+00:00\", \"id\": \"t1_c34420v\", \"parentId\": null, \"subreddit\": \"carporn\", \"url\": \"https://old.reddit.com/r/carporn/comments/music/_/c34420v/\", \"created\": \"2011-11-30T21:57:33+00:00\"}\n",
      "{\"_type\": \"snscrape.modules.reddit.Comment\", \"author\": \"steveb213\", \"body\": \"It's like grandma porn, for cars\", \"date\": \"2011-11-30T21:32:14+00:00\", \"id\": \"t1_c343s0c\", \"parentId\": null, \"subreddit\": \"carporn\", \"url\": \"https://old.reddit.com/r/carporn/comments/music/_/c343s0c/\", \"created\": \"2011-11-30T21:32:14+00:00\"}\n",
      "{\"_type\": \"snscrape.modules.reddit.Comment\", \"author\": \"lotsa1s\", \"body\": \"I really want to buy an old Ford F series and stick a plow on the front.\", \"date\": \"2011-11-30T20:47:29+00:00\", \"id\": \"t1_c343a38\", \"parentId\": null, \"subreddit\": \"carporn\", \"url\": \"https://old.reddit.com/r/carporn/comments/music/_/c343a38/\", \"created\": \"2011-11-30T20:47:29+00:00\"}\n"
     ]
    }
   ],
   "source": [
    "## this would work 1/2 the time and would fail the other 1/2 of the time\n",
    "## from my perspective it seemed like something on the scraper's end (not the code itself)\n",
    "\n",
    "scraper = snreddit.RedditSubmissionScraper('psychology')\n",
    "\n",
    "posts = []\n",
    "for i, item in enumerate(scraper.get_items()):\n",
    "    print(item.json())\n",
    "    posts.append(item.json())\n",
    "    # if i >= 5: ## small sample first\n",
    "    if i >= 5000:\n",
    "        break"
   ]
  },
  {
   "cell_type": "code",
   "execution_count": 14,
   "metadata": {},
   "outputs": [
    {
     "data": {
      "text/plain": [
       "84"
      ]
     },
     "execution_count": 14,
     "metadata": {},
     "output_type": "execute_result"
    }
   ],
   "source": [
    "len(posts) ## you could not as easily get all the posts I wanted (1000) as quickly with SNScrape Reddit"
   ]
  },
  {
   "cell_type": "code",
   "execution_count": null,
   "metadata": {},
   "outputs": [],
   "source": [
    "## I ended up just using this URL and downloading the resulting JSON:\n",
    "## make somet\n",
    "\n",
    "## https://api.pushshift.io/reddit/search/submission?q=psychology&limit=1000&sort=score\n",
    "## the above code queries 1000 of the most recent psychology posts"
   ]
  }
 ],
 "metadata": {
  "kernelspec": {
   "display_name": "Python 3",
   "language": "python",
   "name": "python3"
  },
  "language_info": {
   "codemirror_mode": {
    "name": "ipython",
    "version": 3
   },
   "file_extension": ".py",
   "mimetype": "text/x-python",
   "name": "python",
   "nbconvert_exporter": "python",
   "pygments_lexer": "ipython3",
   "version": "3.7.4"
  }
 },
 "nbformat": 4,
 "nbformat_minor": 5
}
