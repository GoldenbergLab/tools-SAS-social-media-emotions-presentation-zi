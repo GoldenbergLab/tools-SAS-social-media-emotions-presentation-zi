{
 "cells": [
  {
   "cell_type": "code",
   "execution_count": 1,
   "metadata": {},
   "outputs": [
    {
     "ename": "ModuleNotFoundError",
     "evalue": "No module named 'vaderSentiment'",
     "output_type": "error",
     "traceback": [
      "\u001b[1;31m---------------------------------------------------------------------------\u001b[0m",
      "\u001b[1;31mModuleNotFoundError\u001b[0m                       Traceback (most recent call last)",
      "Cell \u001b[1;32mIn[1], line 5\u001b[0m\n\u001b[0;32m      2\u001b[0m \u001b[38;5;28;01mfrom\u001b[39;00m \u001b[38;5;21;01mcollections\u001b[39;00m \u001b[38;5;28;01mimport\u001b[39;00m Counter\n\u001b[0;32m      4\u001b[0m \u001b[38;5;66;03m# sentiment analyzer\u001b[39;00m\n\u001b[1;32m----> 5\u001b[0m \u001b[38;5;28;01mfrom\u001b[39;00m \u001b[38;5;21;01mvaderSentiment\u001b[39;00m\u001b[38;5;21;01m.\u001b[39;00m\u001b[38;5;21;01mvaderSentiment\u001b[39;00m \u001b[38;5;28;01mimport\u001b[39;00m SentimentIntensityAnalyzer\n\u001b[0;32m      6\u001b[0m analyzer \u001b[38;5;241m=\u001b[39m SentimentIntensityAnalyzer()\n\u001b[0;32m      8\u001b[0m \u001b[38;5;66;03m# emotion analyzer\u001b[39;00m\n",
      "\u001b[1;31mModuleNotFoundError\u001b[0m: No module named 'vaderSentiment'"
     ]
    }
   ],
   "source": [
    "import pandas as pd\n",
    "from collections import Counter\n",
    "\n",
    "# sentiment analyzer\n",
    "from vaderSentiment.vaderSentiment import SentimentIntensityAnalyzer\n",
    "analyzer = SentimentIntensityAnalyzer()\n",
    "\n",
    "# emotion analyzer\n",
    "from nrclex import NRCLex"
   ]
  },
  {
   "cell_type": "markdown",
   "metadata": {},
   "source": [
    "Twitter"
   ]
  },
  {
   "cell_type": "code",
   "execution_count": 115,
   "metadata": {},
   "outputs": [],
   "source": [
    "twitter = pd.read_csv(\"raw-social-media-data/twitter-data-psychology-general-5000.csv\")\n",
    "twitter_dict = twitter.to_dict()"
   ]
  },
  {
   "cell_type": "code",
   "execution_count": 120,
   "metadata": {},
   "outputs": [],
   "source": [
    "twitter_dict[\"vader_overall_sentiment\"] = {}\n",
    "twitter_dict[\"vader_neg\"] = {}\n",
    "twitter_dict[\"vader_pos\"] = {}\n",
    "twitter_dict[\"vader_neu\"] = {}\n",
    "twitter_dict[\"vader_compound\"] = {}\n",
    "\n",
    "twitter_dict[\"NRC_fear\"] = {}\n",
    "twitter_dict[\"NRC_anger\"] = {}\n",
    "twitter_dict[\"NRC_anticipation\"] = {}\n",
    "twitter_dict[\"NRC_trust\"] = {}\n",
    "twitter_dict[\"NRC_surprise\"] = {}\n",
    "twitter_dict[\"NRC_positive\"] = {}\n",
    "twitter_dict[\"NRC_negative\"] = {}\n",
    "twitter_dict[\"NRC_sadness\"] = {}\n",
    "twitter_dict[\"NRC_disgust\"] = {}\n",
    "twitter_dict[\"NRC_joy\"] = {}\n",
    "\n",
    "\n",
    "for i in range(len(twitter_dict[\"Text\"])):\n",
    "    twitter_dict[\"vader_overall_sentiment\"][i] = analyzer.polarity_scores(twitter_dict[\"Text\"][i])\n",
    "    twitter_dict[\"NRC_overall_emotions\"] = NRCLex(twitter_dict[\"Text\"][i]).affect_frequencies\n",
    "    \n",
    "    \n",
    "    twitter_dict[\"vader_neg\"][i] = twitter_dict[\"vader_overall_sentiment\"][i][\"neg\"] \n",
    "    twitter_dict[\"vader_pos\"][i] = twitter_dict[\"vader_overall_sentiment\"][i][\"pos\"] \n",
    "    twitter_dict[\"vader_neu\"][i] = twitter_dict[\"vader_overall_sentiment\"][i][\"neu\"] \n",
    "    twitter_dict[\"vader_compound\"][i] = twitter_dict[\"vader_overall_sentiment\"][i][\"compound\"] \n",
    "    \n",
    "    \n",
    "    twitter_dict[\"NRC_fear\"][i] = twitter_dict[\"NRC_overall_emotions\"][\"fear\"]\n",
    "    twitter_dict[\"NRC_anger\"][i] = twitter_dict[\"NRC_overall_emotions\"][\"anger\"]\n",
    "    try:\n",
    "        twitter_dict[\"NRC_anticipation\"][i] = twitter_dict[\"NRC_overall_emotions\"][\"anticipation\"]\n",
    "    except:\n",
    "        twitter_dict[\"NRC_anticipation\"][i] = 0\n",
    "    twitter_dict[\"NRC_trust\"][i] = twitter_dict[\"NRC_overall_emotions\"][\"trust\"]\n",
    "    twitter_dict[\"NRC_surprise\"][i] = twitter_dict[\"NRC_overall_emotions\"][\"surprise\"]\n",
    "    twitter_dict[\"NRC_positive\"][i] = twitter_dict[\"NRC_overall_emotions\"][\"positive\"]\n",
    "    twitter_dict[\"NRC_negative\"][i] = twitter_dict[\"NRC_overall_emotions\"][\"negative\"]\n",
    "    twitter_dict[\"NRC_sadness\"][i] = twitter_dict[\"NRC_overall_emotions\"][\"sadness\"]\n",
    "    twitter_dict[\"NRC_disgust\"][i] = twitter_dict[\"NRC_overall_emotions\"][\"disgust\"]\n",
    "    twitter_dict[\"NRC_joy\"][i] = twitter_dict[\"NRC_overall_emotions\"][\"joy\"]\n",
    " "
   ]
  },
  {
   "cell_type": "code",
   "execution_count": 123,
   "metadata": {},
   "outputs": [],
   "source": [
    "pd.DataFrame(twitter_dict).to_csv(\"data-with-sentiment/pschology-tweets-with-sentiment.csv\")"
   ]
  },
  {
   "cell_type": "markdown",
   "metadata": {},
   "source": [
    "Reddit"
   ]
  },
  {
   "cell_type": "code",
   "execution_count": 64,
   "metadata": {},
   "outputs": [],
   "source": [
    "import json\n",
    "\n",
    "with open(\"raw-social-media-data/psychology-reddit-top-1000.json\", \"r\", encoding=\"utf-8\") as f:\n",
    "    reddit = json.load(f)"
   ]
  },
  {
   "cell_type": "code",
   "execution_count": 125,
   "metadata": {},
   "outputs": [],
   "source": [
    "for i in reddit[\"data\"]:\n",
    "    i[\"vader_overall_sentiment\"] = analyzer.polarity_scores(i[\"title\"])\n",
    "    i[\"vader_neg\"] = i[\"vader_overall_sentiment\"][\"neg\"]\n",
    "    i[\"vader_pos\"] = i[\"vader_overall_sentiment\"][\"pos\"]\n",
    "    i[\"vader_neu\"] = i[\"vader_overall_sentiment\"][\"neu\"]\n",
    "    i[\"vader_compound\"] = i[\"vader_overall_sentiment\"][\"compound\"]\n",
    "    \n",
    "    i[\"NRC_overall_emotions\"] = NRCLex(i[\"title\"]).affect_frequencies\n",
    "    i[\"NRC_fear\"] = i[\"NRC_overall_emotions\"][\"fear\"]\n",
    "    i[\"NRC_anger\"] = i[\"NRC_overall_emotions\"][\"anger\"]\n",
    "    try:\n",
    "        i[\"NRC_anticipation\"] = i[\"NRC_overall_emotions\"][\"anticipation\"]\n",
    "    except:\n",
    "        i[\"NRC_anticipation\"] = 0\n",
    "    i[\"NRC_trust\"] = i[\"NRC_overall_emotions\"][\"trust\"]\n",
    "    i[\"NRC_surprise\"] = i[\"NRC_overall_emotions\"][\"surprise\"]\n",
    "    i[\"NRC_positive\"] = i[\"NRC_overall_emotions\"][\"positive\"]\n",
    "    i[\"NRC_negative\"] = i[\"NRC_overall_emotions\"][\"negative\"]\n",
    "    i[\"NRC_sadness\"] = i[\"NRC_overall_emotions\"][\"sadness\"]\n",
    "    i[\"NRC_disgust\"] = i[\"NRC_overall_emotions\"][\"disgust\"]\n",
    "    i[\"NRC_joy\"] = i[\"NRC_overall_emotions\"][\"joy\"]"
   ]
  },
  {
   "cell_type": "code",
   "execution_count": 126,
   "metadata": {},
   "outputs": [],
   "source": [
    "with open(\"data-with-sentiment/psychology-reddit-1000-top-with-sentiment.json\", \"w\") as f:\n",
    "    json.dump(reddit,f)"
   ]
  },
  {
   "cell_type": "markdown",
   "metadata": {},
   "source": [
    "YouTube"
   ]
  },
  {
   "cell_type": "code",
   "execution_count": 46,
   "metadata": {},
   "outputs": [],
   "source": [
    "yt = pd.read_csv(\"psychology_metadata-youtube-recent-588.csv\")\n",
    "yt_dict = yt.to_dict()"
   ]
  },
  {
   "cell_type": "code",
   "execution_count": 111,
   "metadata": {},
   "outputs": [],
   "source": [
    "yt_dict[\"title_vader_overall_sentiment\"] = {}\n",
    "yt_dict[\"title_vader_neg\"] = {}\n",
    "yt_dict[\"title_vader_pos\"] = {}\n",
    "yt_dict[\"title_vader_neu\"] = {}\n",
    "yt_dict[\"title_vader_compound\"] = {}\n",
    "\n",
    "yt_dict[\"desc_vader_overall_sentiment\"] = {}\n",
    "yt_dict[\"desc_vader_neg\"] = {}\n",
    "yt_dict[\"desc_vader_pos\"] = {}\n",
    "yt_dict[\"desc_vader_neu\"] = {}\n",
    "yt_dict[\"desc_vader_compound\"] = {}\n",
    "\n",
    "yt_dict[\"NRC_fear\"] = {}\n",
    "yt_dict[\"NRC_anger\"] = {}\n",
    "yt_dict[\"NRC_anticipation\"] = {}\n",
    "yt_dict[\"NRC_trust\"] = {}\n",
    "yt_dict[\"NRC_surprise\"] = {}\n",
    "yt_dict[\"NRC_positive\"] = {}\n",
    "yt_dict[\"NRC_negative\"] = {}\n",
    "yt_dict[\"NRC_sadness\"] = {}\n",
    "yt_dict[\"NRC_disgust\"] = {}\n",
    "yt_dict[\"NRC_joy\"] = {}\n",
    "\n",
    "\n",
    "\n",
    "\n",
    "for i in range(len(yt_dict[\"video_title\"])):\n",
    "    yt_dict[\"title_vader_overall_sentiment\"][i] = analyzer.polarity_scores(yt_dict[\"video_title\"][i])\n",
    "    yt_dict[\"NRC_overall_emotions\"][i] = NRCLex(yt_dict[\"video_title\"][i]).affect_frequencies\n",
    "    try:\n",
    "        yt_dict[\"desc_vader_overall_sentiment\"][i] = analyzer.polarity_scores(yt_dict[\"video_description\"][i])\n",
    "        \n",
    "    except:\n",
    "        yt_dict[\"desc_vader_overall_sentiment\"][i] = analyzer.polarity_scores(\"\")\n",
    "\n",
    "for i in range(len(yt_dict[\"video_title\"])):\n",
    "    yt_dict[\"title_vader_neg\"][i] = yt_dict[\"title_vader_overall_sentiment\"][i][\"neg\"] \n",
    "    yt_dict[\"title_vader_pos\"][i] = yt_dict[\"title_vader_overall_sentiment\"][i][\"pos\"] \n",
    "    yt_dict[\"title_vader_neu\"][i] = yt_dict[\"title_vader_overall_sentiment\"][i][\"neu\"] \n",
    "    yt_dict[\"title_vader_compound\"][i] = yt_dict[\"title_vader_overall_sentiment\"][i][\"compound\"] \n",
    "    \n",
    "    yt_dict[\"desc_vader_neg\"][i] = yt_dict[\"desc_vader_overall_sentiment\"][i][\"neg\"] \n",
    "    yt_dict[\"desc_vader_pos\"][i] = yt_dict[\"desc_vader_overall_sentiment\"][i][\"pos\"] \n",
    "    yt_dict[\"desc_vader_neu\"][i] = yt_dict[\"desc_vader_overall_sentiment\"][i][\"neu\"] \n",
    "    yt_dict[\"desc_vader_compound\"][i] = yt_dict[\"desc_vader_overall_sentiment\"][i][\"compound\"] \n",
    "    \n",
    "    \n",
    "    yt_dict[\"NRC_fear\"][i] = yt_dict[\"NRC_overall_emotions\"][i][\"fear\"]\n",
    "    yt_dict[\"NRC_anger\"][i] = yt_dict[\"NRC_overall_emotions\"][i][\"anger\"]\n",
    "    yt_dict[\"NRC_anticipation\"][i] = yt_dict[\"NRC_overall_emotions\"][i][\"anticipation\"]\n",
    "    yt_dict[\"NRC_trust\"][i] = yt_dict[\"NRC_overall_emotions\"][i][\"trust\"]\n",
    "    yt_dict[\"NRC_surprise\"][i] = yt_dict[\"NRC_overall_emotions\"][i][\"surprise\"]\n",
    "    yt_dict[\"NRC_positive\"][i] = yt_dict[\"NRC_overall_emotions\"][i][\"positive\"]\n",
    "    yt_dict[\"NRC_negative\"][i] = yt_dict[\"NRC_overall_emotions\"][i][\"negative\"]\n",
    "    yt_dict[\"NRC_sadness\"][i] = yt_dict[\"NRC_overall_emotions\"][i][\"sadness\"]\n",
    "    yt_dict[\"NRC_disgust\"][i] = yt_dict[\"NRC_overall_emotions\"][i][\"disgust\"]\n",
    "    yt_dict[\"NRC_joy\"][i] = yt_dict[\"NRC_overall_emotions\"][i][\"joy\"]\n",
    " \n"
   ]
  },
  {
   "cell_type": "code",
   "execution_count": 112,
   "metadata": {},
   "outputs": [],
   "source": [
    "pd.DataFrame(yt_dict).to_csv(\"data-with-sentiment/pschology-youtube-with-sentiment.csv\")"
   ]
  },
  {
   "cell_type": "code",
   "execution_count": null,
   "metadata": {},
   "outputs": [],
   "source": [
    "t"
   ]
  }
 ],
 "metadata": {
  "kernelspec": {
   "display_name": "Python 3 (ipykernel)",
   "language": "python",
   "name": "python3"
  },
  "language_info": {
   "codemirror_mode": {
    "name": "ipython",
    "version": 3
   },
   "file_extension": ".py",
   "mimetype": "text/x-python",
   "name": "python",
   "nbconvert_exporter": "python",
   "pygments_lexer": "ipython3",
   "version": "3.8.16"
  }
 },
 "nbformat": 4,
 "nbformat_minor": 2
}
