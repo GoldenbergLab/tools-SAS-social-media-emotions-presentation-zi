{
 "cells": [
  {
   "cell_type": "code",
   "execution_count": 21,
   "metadata": {},
   "outputs": [],
   "source": [
    "### pip install pandas\n",
    "### pip install vaderSentiment==3.32\n",
    "### pip install nrclex==3.0.0"
   ]
  },
  {
   "cell_type": "code",
   "execution_count": 22,
   "metadata": {},
   "outputs": [],
   "source": [
    "import pandas as pd\n",
    "\n",
    "# sentiment analyzer\n",
    "from vaderSentiment.vaderSentiment import SentimentIntensityAnalyzer\n",
    "analyzer = SentimentIntensityAnalyzer()\n",
    "\n",
    "# emotion analyzer\n",
    "from nrclex import NRCLex"
   ]
  },
  {
   "cell_type": "markdown",
   "metadata": {},
   "source": [
    "Twitter"
   ]
  },
  {
   "cell_type": "code",
   "execution_count": 23,
   "metadata": {},
   "outputs": [],
   "source": [
    "## read in the raw social media data\n",
    "\n",
    "twitter = pd.read_csv(\"../api-codes/raw-social-media-data/twitter-data-psychology-general-5000.csv\")\n",
    "twitter_dict = twitter.to_dict()"
   ]
  },
  {
   "cell_type": "code",
   "execution_count": 38,
   "metadata": {
    "scrolled": true
   },
   "outputs": [
    {
     "name": "stdout",
     "output_type": "stream",
     "text": [
      "New Research: Global trends in depression among patients living with HIV: A bibliometric analysis https://t.co/g3cm6IlRhR #Psychology #Psych\n",
      "{'neg': 0.188, 'neu': 0.812, 'pos': 0.0, 'compound': -0.5719}\n",
      "{'fear': 0.0, 'anger': 0.0, 'anticip': 0.0, 'trust': 0.0, 'surprise': 0.0, 'positive': 0.0, 'negative': 0.5, 'sadness': 0.5, 'disgust': 0.0, 'joy': 0.0}\n"
     ]
    }
   ],
   "source": [
    "## small example of what we are going to do\n",
    "\n",
    "### obtain one tweet\n",
    "example = twitter_dict[\"Text\"][36]\n",
    "print(example)\n",
    "\n",
    "## show sentiment scores of one tweet\n",
    "print(analyzer.polarity_scores(example))\n",
    "### show distinct emotions of one tweet\n",
    "print(NRCLex(example).affect_frequencies)\n",
    "\n",
    "### next we will loop through all the tweets and do the same thing"
   ]
  },
  {
   "cell_type": "code",
   "execution_count": 14,
   "metadata": {},
   "outputs": [],
   "source": [
    "## initialize sentiment and emotion dictionaries\n",
    "## these will capture the correct corresponding values for each variable we initialize here\n",
    "\n",
    "twitter_dict[\"vader_overall_sentiment\"] = {}\n",
    "twitter_dict[\"vader_neg\"] = {}\n",
    "twitter_dict[\"vader_pos\"] = {}\n",
    "twitter_dict[\"vader_neu\"] = {}\n",
    "twitter_dict[\"vader_compound\"] = {}\n",
    "\n",
    "twitter_dict[\"NRC_fear\"] = {}\n",
    "twitter_dict[\"NRC_anger\"] = {}\n",
    "twitter_dict[\"NRC_anticipation\"] = {}\n",
    "twitter_dict[\"NRC_trust\"] = {}\n",
    "twitter_dict[\"NRC_surprise\"] = {}\n",
    "twitter_dict[\"NRC_positive\"] = {}\n",
    "twitter_dict[\"NRC_negative\"] = {}\n",
    "twitter_dict[\"NRC_sadness\"] = {}\n",
    "twitter_dict[\"NRC_disgust\"] = {}\n",
    "twitter_dict[\"NRC_joy\"] = {}\n",
    "\n",
    "### begin performing analyses for each tweet\n",
    "### loop through the tweet text\n",
    "for i in range(len(twitter_dict[\"Text\"])):\n",
    "    \n",
    "    ### calculate sentiment\n",
    "    twitter_dict[\"vader_overall_sentiment\"][i] = analyzer.polarity_scores(twitter_dict[\"Text\"][i])\n",
    "    ### calculate distinct emotions\n",
    "    twitter_dict[\"NRC_overall_emotions\"] = NRCLex(twitter_dict[\"Text\"][i]).affect_frequencies\n",
    "    \n",
    "    ### add the correct values of these into the correct dictionaries\n",
    "    twitter_dict[\"vader_neg\"][i] = twitter_dict[\"vader_overall_sentiment\"][i][\"neg\"] \n",
    "    twitter_dict[\"vader_pos\"][i] = twitter_dict[\"vader_overall_sentiment\"][i][\"pos\"] \n",
    "    twitter_dict[\"vader_neu\"][i] = twitter_dict[\"vader_overall_sentiment\"][i][\"neu\"] \n",
    "    twitter_dict[\"vader_compound\"][i] = twitter_dict[\"vader_overall_sentiment\"][i][\"compound\"] \n",
    "    \n",
    "    \n",
    "    twitter_dict[\"NRC_fear\"][i] = twitter_dict[\"NRC_overall_emotions\"][\"fear\"]\n",
    "    twitter_dict[\"NRC_anger\"][i] = twitter_dict[\"NRC_overall_emotions\"][\"anger\"]\n",
    "    try:\n",
    "        twitter_dict[\"NRC_anticipation\"][i] = twitter_dict[\"NRC_overall_emotions\"][\"anticipation\"]\n",
    "    except:\n",
    "        twitter_dict[\"NRC_anticipation\"][i] = 0\n",
    "    twitter_dict[\"NRC_trust\"][i] = twitter_dict[\"NRC_overall_emotions\"][\"trust\"]\n",
    "    twitter_dict[\"NRC_surprise\"][i] = twitter_dict[\"NRC_overall_emotions\"][\"surprise\"]\n",
    "    twitter_dict[\"NRC_positive\"][i] = twitter_dict[\"NRC_overall_emotions\"][\"positive\"]\n",
    "    twitter_dict[\"NRC_negative\"][i] = twitter_dict[\"NRC_overall_emotions\"][\"negative\"]\n",
    "    twitter_dict[\"NRC_sadness\"][i] = twitter_dict[\"NRC_overall_emotions\"][\"sadness\"]\n",
    "    twitter_dict[\"NRC_disgust\"][i] = twitter_dict[\"NRC_overall_emotions\"][\"disgust\"]\n",
    "    twitter_dict[\"NRC_joy\"][i] = twitter_dict[\"NRC_overall_emotions\"][\"joy\"]\n",
    " "
   ]
  },
  {
   "cell_type": "code",
   "execution_count": 123,
   "metadata": {},
   "outputs": [],
   "source": [
    "### save data\n",
    "\n",
    "pd.DataFrame(twitter_dict).to_csv(\"data-with-sentiment/pschology-tweets-with-sentiment.csv\")"
   ]
  },
  {
   "cell_type": "markdown",
   "metadata": {},
   "source": [
    "Reddit"
   ]
  },
  {
   "cell_type": "code",
   "execution_count": 4,
   "metadata": {},
   "outputs": [],
   "source": [
    "import json\n",
    "\n",
    "### read in reddit data\n",
    "with open(\"../api-codes/raw-social-media-data/psychology-reddit-top-1000.json\", \"r\", encoding=\"utf-8\") as f:\n",
    "    reddit = json.load(f)"
   ]
  },
  {
   "cell_type": "code",
   "execution_count": 125,
   "metadata": {},
   "outputs": [],
   "source": [
    "### perform emotion calculation for each reddit post\n",
    "\n",
    "\n",
    "### loop through all reddit posts and calculate sentiment and distinct emotion\n",
    "for i in reddit[\"data\"]:\n",
    "    i[\"vader_overall_sentiment\"] = analyzer.polarity_scores(i[\"title\"])\n",
    "    i[\"vader_neg\"] = i[\"vader_overall_sentiment\"][\"neg\"]\n",
    "    i[\"vader_pos\"] = i[\"vader_overall_sentiment\"][\"pos\"]\n",
    "    i[\"vader_neu\"] = i[\"vader_overall_sentiment\"][\"neu\"]\n",
    "    i[\"vader_compound\"] = i[\"vader_overall_sentiment\"][\"compound\"]\n",
    "    \n",
    "    i[\"NRC_overall_emotions\"] = NRCLex(i[\"title\"]).affect_frequencies\n",
    "    i[\"NRC_fear\"] = i[\"NRC_overall_emotions\"][\"fear\"]\n",
    "    i[\"NRC_anger\"] = i[\"NRC_overall_emotions\"][\"anger\"]\n",
    "    try:\n",
    "        i[\"NRC_anticipation\"] = i[\"NRC_overall_emotions\"][\"anticipation\"]\n",
    "    except:\n",
    "        i[\"NRC_anticipation\"] = 0\n",
    "    i[\"NRC_trust\"] = i[\"NRC_overall_emotions\"][\"trust\"]\n",
    "    i[\"NRC_surprise\"] = i[\"NRC_overall_emotions\"][\"surprise\"]\n",
    "    i[\"NRC_positive\"] = i[\"NRC_overall_emotions\"][\"positive\"]\n",
    "    i[\"NRC_negative\"] = i[\"NRC_overall_emotions\"][\"negative\"]\n",
    "    i[\"NRC_sadness\"] = i[\"NRC_overall_emotions\"][\"sadness\"]\n",
    "    i[\"NRC_disgust\"] = i[\"NRC_overall_emotions\"][\"disgust\"]\n",
    "    i[\"NRC_joy\"] = i[\"NRC_overall_emotions\"][\"joy\"]"
   ]
  },
  {
   "cell_type": "code",
   "execution_count": 126,
   "metadata": {},
   "outputs": [],
   "source": [
    "### save data\n",
    "\n",
    "with open(\"data-with-sentiment/psychology-reddit-1000-top-with-sentiment.json\", \"w\") as f:\n",
    "    json.dump(reddit,f)"
   ]
  },
  {
   "cell_type": "markdown",
   "metadata": {},
   "source": [
    "YouTube"
   ]
  },
  {
   "cell_type": "code",
   "execution_count": 5,
   "metadata": {},
   "outputs": [],
   "source": [
    "## read in YouTube data\n",
    "\n",
    "yt = pd.read_csv(\"../api-codes/raw-social-media-data/psychology_metadata-youtube-recent-588.csv\")\n",
    "yt_dict = yt.to_dict()"
   ]
  },
  {
   "cell_type": "code",
   "execution_count": 13,
   "metadata": {},
   "outputs": [],
   "source": [
    "## initialize sentiment and emotion dictionaries\n",
    "\n",
    "yt_dict[\"title_vader_overall_sentiment\"] = {}\n",
    "yt_dict[\"title_vader_neg\"] = {}\n",
    "yt_dict[\"title_vader_pos\"] = {}\n",
    "yt_dict[\"title_vader_neu\"] = {}\n",
    "yt_dict[\"title_vader_compound\"] = {}\n",
    "\n",
    "yt_dict[\"desc_vader_overall_sentiment\"] = {}\n",
    "yt_dict[\"desc_vader_neg\"] = {}\n",
    "yt_dict[\"desc_vader_pos\"] = {}\n",
    "yt_dict[\"desc_vader_neu\"] = {}\n",
    "yt_dict[\"desc_vader_compound\"] = {}\n",
    "\n",
    "yt_dict[\"NRC_fear\"] = {}\n",
    "yt_dict[\"NRC_anger\"] = {}\n",
    "yt_dict[\"NRC_anticipation\"] = {}\n",
    "yt_dict[\"NRC_trust\"] = {}\n",
    "yt_dict[\"NRC_surprise\"] = {}\n",
    "yt_dict[\"NRC_positive\"] = {}\n",
    "yt_dict[\"NRC_negative\"] = {}\n",
    "yt_dict[\"NRC_sadness\"] = {}\n",
    "yt_dict[\"NRC_disgust\"] = {}\n",
    "yt_dict[\"NRC_joy\"] = {}\n",
    "yt_dict[\"NRC_overall_emotions\"] = {}\n",
    "\n",
    "\n",
    "### begin performing analyses for each video title text. loop through all video titles\n",
    "\n",
    "for i in range(len(yt_dict[\"video_title\"])):\n",
    "    yt_dict[\"title_vader_overall_sentiment\"][i] = analyzer.polarity_scores(yt_dict[\"video_title\"][i])\n",
    "    yt_dict[\"NRC_overall_emotions\"][i] = NRCLex(yt_dict[\"video_title\"][i]).affect_frequencies\n",
    "    \n",
    "    ### i chose to also analyze video descriptions although some videos did not have descriptions\n",
    "    ### therefore i used this try accept code\n",
    "    try:\n",
    "        yt_dict[\"desc_vader_overall_sentiment\"][i] = analyzer.polarity_scores(yt_dict[\"video_description\"][i])\n",
    "        \n",
    "    except:\n",
    "        yt_dict[\"desc_vader_overall_sentiment\"][i] = analyzer.polarity_scores(\"\")\n",
    "\n",
    "for i in range(len(yt_dict[\"video_title\"])):\n",
    "    yt_dict[\"title_vader_neg\"][i] = yt_dict[\"title_vader_overall_sentiment\"][i][\"neg\"] \n",
    "    yt_dict[\"title_vader_pos\"][i] = yt_dict[\"title_vader_overall_sentiment\"][i][\"pos\"] \n",
    "    yt_dict[\"title_vader_neu\"][i] = yt_dict[\"title_vader_overall_sentiment\"][i][\"neu\"] \n",
    "    yt_dict[\"title_vader_compound\"][i] = yt_dict[\"title_vader_overall_sentiment\"][i][\"compound\"] \n",
    "    \n",
    "    yt_dict[\"desc_vader_neg\"][i] = yt_dict[\"desc_vader_overall_sentiment\"][i][\"neg\"] \n",
    "    yt_dict[\"desc_vader_pos\"][i] = yt_dict[\"desc_vader_overall_sentiment\"][i][\"pos\"] \n",
    "    yt_dict[\"desc_vader_neu\"][i] = yt_dict[\"desc_vader_overall_sentiment\"][i][\"neu\"] \n",
    "    yt_dict[\"desc_vader_compound\"][i] = yt_dict[\"desc_vader_overall_sentiment\"][i][\"compound\"] \n",
    "    \n",
    "    \n",
    "    yt_dict[\"NRC_fear\"][i] = yt_dict[\"NRC_overall_emotions\"][i][\"fear\"]\n",
    "    yt_dict[\"NRC_anger\"][i] = yt_dict[\"NRC_overall_emotions\"][i][\"anger\"]\n",
    "    try:\n",
    "        yt_dict[\"NRC_anticipation\"][i] = yt_dict[\"NRC_overall_emotions\"][\"anticipation\"]\n",
    "    except:\n",
    "        yt_dict[\"NRC_anticipation\"][i] = 0\n",
    "    yt_dict[\"NRC_trust\"][i] = yt_dict[\"NRC_overall_emotions\"][i][\"trust\"]\n",
    "    yt_dict[\"NRC_surprise\"][i] = yt_dict[\"NRC_overall_emotions\"][i][\"surprise\"]\n",
    "    yt_dict[\"NRC_positive\"][i] = yt_dict[\"NRC_overall_emotions\"][i][\"positive\"]\n",
    "    yt_dict[\"NRC_negative\"][i] = yt_dict[\"NRC_overall_emotions\"][i][\"negative\"]\n",
    "    yt_dict[\"NRC_sadness\"][i] = yt_dict[\"NRC_overall_emotions\"][i][\"sadness\"]\n",
    "    yt_dict[\"NRC_disgust\"][i] = yt_dict[\"NRC_overall_emotions\"][i][\"disgust\"]\n",
    "    yt_dict[\"NRC_joy\"][i] = yt_dict[\"NRC_overall_emotions\"][i][\"joy\"]\n",
    " \n"
   ]
  },
  {
   "cell_type": "code",
   "execution_count": 14,
   "metadata": {},
   "outputs": [],
   "source": [
    "pd.DataFrame(yt_dict).to_csv(\"data-with-sentiment/pschology-youtube-with-sentiment.csv\")"
   ]
  }
 ],
 "metadata": {
  "kernelspec": {
   "display_name": "Python 3",
   "language": "python",
   "name": "python3"
  },
  "language_info": {
   "codemirror_mode": {
    "name": "ipython",
    "version": 3
   },
   "file_extension": ".py",
   "mimetype": "text/x-python",
   "name": "python",
   "nbconvert_exporter": "python",
   "pygments_lexer": "ipython3",
   "version": "3.7.4"
  }
 },
 "nbformat": 4,
 "nbformat_minor": 2
}
